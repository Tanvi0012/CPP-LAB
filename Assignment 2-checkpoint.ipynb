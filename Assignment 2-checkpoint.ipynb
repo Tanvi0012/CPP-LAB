{
 "cells": [
  {
   "cell_type": "code",
   "execution_count": 1,
   "id": "a3cc8138-ff1d-4e97-a6d1-61cfeb7cd053",
   "metadata": {},
   "outputs": [
    {
     "name": "stdin",
     "output_type": "stream",
     "text": [
      "Enter a number:  3\n"
     ]
    },
    {
     "name": "stdout",
     "output_type": "stream",
     "text": [
      "Positive\n"
     ]
    }
   ],
   "source": [
    "### Q1\n",
    "num = int(input(\"Enter a number: \"))\n",
    "if num > 0:\n",
    "    print(\"Positive\")\n",
    "elif num < 0:\n",
    "    print(\"Negative\")\n",
    "else:\n",
    "    print(\"Zero\")"
   ]
  },
  {
   "cell_type": "code",
   "execution_count": 2,
   "id": "847ed152-9134-4163-8416-c6f3d72190d3",
   "metadata": {},
   "outputs": [
    {
     "name": "stdin",
     "output_type": "stream",
     "text": [
      "Enter a number:  3\n"
     ]
    },
    {
     "name": "stdout",
     "output_type": "stream",
     "text": [
      "Odd\n"
     ]
    }
   ],
   "source": [
    "#Q2 \n",
    "num = int(input(\"Enter a number: \"))\n",
    "if num % 2 == 0:\n",
    "    print(\"Even\")\n",
    "else:\n",
    "    print(\"Odd\")"
   ]
  },
  {
   "cell_type": "code",
   "execution_count": 4,
   "id": "feb74f45-d84c-4eee-bedd-efe23ea0af31",
   "metadata": {},
   "outputs": [
    {
     "name": "stdin",
     "output_type": "stream",
     "text": [
      "Enter first number:  23\n",
      "Enter second number:  65\n"
     ]
    },
    {
     "name": "stdout",
     "output_type": "stream",
     "text": [
      "Largest number is: 65\n"
     ]
    }
   ],
   "source": [
    "#Q3\n",
    "a = int(input(\"Enter first number: \"))\n",
    "b = int(input(\"Enter second number: \"))\n",
    "if a > b:\n",
    "    print(\"Largest number is:\", a)\n",
    "else:\n",
    "    print(\"Largest number is:\", b)"
   ]
  },
  {
   "cell_type": "code",
   "execution_count": 7,
   "id": "e86ccc3d-f577-43a6-9213-1ef2a9d7c228",
   "metadata": {},
   "outputs": [
    {
     "name": "stdin",
     "output_type": "stream",
     "text": [
      "Enter a number:  -89\n"
     ]
    },
    {
     "name": "stdout",
     "output_type": "stream",
     "text": [
      "Absolute value is: 89\n"
     ]
    }
   ],
   "source": [
    "#Q4\n",
    "num = int(input(\"Enter a number: \"))\n",
    "if num < 0:\n",
    "    print(\"Absolute value is:\", -num)\n",
    "else:\n",
    "    print(\"Absolute value is:\", num)"
   ]
  },
  {
   "cell_type": "code",
   "execution_count": 8,
   "id": "ba34139e-3fff-43a9-9237-b68b328b802a",
   "metadata": {},
   "outputs": [
    {
     "name": "stdin",
     "output_type": "stream",
     "text": [
      "Enter your age:  12\n"
     ]
    },
    {
     "name": "stdout",
     "output_type": "stream",
     "text": [
      "Not eligible to vote\n"
     ]
    }
   ],
   "source": [
    "#Q5\n",
    "age = int(input(\"Enter your age: \"))\n",
    "if age >= 18:\n",
    "    print(\"Eligible to vote\")\n",
    "else:\n",
    "    print(\"Not eligible to vote\")"
   ]
  },
  {
   "cell_type": "code",
   "execution_count": 11,
   "id": "78b482ee-a977-4746-9809-09bf25d839ca",
   "metadata": {},
   "outputs": [
    {
     "name": "stdin",
     "output_type": "stream",
     "text": [
      "Enter a year:  2004\n"
     ]
    },
    {
     "name": "stdout",
     "output_type": "stream",
     "text": [
      "Leap Year\n"
     ]
    }
   ],
   "source": [
    "#Q6\n",
    "year = int(input(\"Enter a year: \"))\n",
    "if (year % 4 == 0 and year % 100 != 0) or (year % 400 == 0):\n",
    "    print(\"Leap Year\")\n",
    "else:\n",
    "    print(\"Not a Leap Year\")"
   ]
  },
  {
   "cell_type": "code",
   "execution_count": 12,
   "id": "2d36b3f5-3975-43e9-a654-58d031073fd0",
   "metadata": {},
   "outputs": [
    {
     "name": "stdin",
     "output_type": "stream",
     "text": [
      "Enter marks:  49\n"
     ]
    },
    {
     "name": "stdout",
     "output_type": "stream",
     "text": [
      "Pass\n"
     ]
    }
   ],
   "source": [
    "#Q7\n",
    "marks = int(input(\"Enter marks: \"))\n",
    "if marks >= 40:\n",
    "    print(\"Pass\")\n",
    "else:\n",
    "    print(\"Fail\")"
   ]
  },
  {
   "cell_type": "code",
   "execution_count": 14,
   "id": "8e0985d8-d7fe-42d5-a1ed-4b5d9385d840",
   "metadata": {},
   "outputs": [
    {
     "name": "stdin",
     "output_type": "stream",
     "text": [
      "Enter a number:  79\n"
     ]
    },
    {
     "name": "stdout",
     "output_type": "stream",
     "text": [
      "Not a multiple of 5\n"
     ]
    }
   ],
   "source": [
    "#Q8\n",
    "num = int(input(\"Enter a number: \"))\n",
    "\n",
    "if num % 5 == 0:\n",
    "    print(\"Multiple of 5\")\n",
    "else:\n",
    "    print(\"Not a multiple of 5\")"
   ]
  },
  {
   "cell_type": "code",
   "execution_count": 19,
   "id": "2eac37b5-9867-4807-8da5-df4eb094305b",
   "metadata": {},
   "outputs": [
    {
     "name": "stdin",
     "output_type": "stream",
     "text": [
      "Enter a character:  Aa\n"
     ]
    },
    {
     "name": "stdout",
     "output_type": "stream",
     "text": [
      "Letter but case unknown\n"
     ]
    }
   ],
   "source": [
    "#Q9\n",
    "ch = input(\"Enter a character: \")\n",
    "if ch.isupper():\n",
    "    print(\"Uppercase Letter\")\n",
    "elif ch.islower():\n",
    "    print(\"Lowercase Letter\")\n",
    "elif ch.isalpha():\n",
    "    print(\"Letter but case unknown\")\n",
    "else:\n",
    "    print(\"Not a letter\")"
   ]
  },
  {
   "cell_type": "code",
   "execution_count": 23,
   "id": "9771341b-e321-48e0-a40f-d27e6ead2601",
   "metadata": {},
   "outputs": [
    {
     "name": "stdin",
     "output_type": "stream",
     "text": [
      "Enter purchase amount:  5999\n"
     ]
    },
    {
     "name": "stdout",
     "output_type": "stream",
     "text": [
      "Final bill amount: 5399.1\n"
     ]
    }
   ],
   "source": [
    "#10\n",
    "amount = float(input(\"Enter purchase amount: \"))\n",
    "if amount >= 1000:\n",
    "    discount = amount * 0.10\n",
    "    final_amount = amount - discount\n",
    "else:\n",
    "    final_amount = amount\n",
    "print(\"Final bill amount:\", final_amount)"
   ]
  },
  {
   "cell_type": "code",
   "execution_count": null,
   "id": "c2403b78-8720-4851-9cd1-64445fc82f14",
   "metadata": {},
   "outputs": [],
   "source": []
  }
 ],
 "metadata": {
  "kernelspec": {
   "display_name": "Python 3 (ipykernel)",
   "language": "python",
   "name": "python3"
  },
  "language_info": {
   "codemirror_mode": {
    "name": "ipython",
    "version": 3
   },
   "file_extension": ".py",
   "mimetype": "text/x-python",
   "name": "python",
   "nbconvert_exporter": "python",
   "pygments_lexer": "ipython3",
   "version": "3.13.5"
  }
 },
 "nbformat": 4,
 "nbformat_minor": 5
}
