{
 "cells": [
  {
   "cell_type": "code",
   "execution_count": 1,
   "id": "cc0f9afe-17ed-4d87-b260-2117580e20b0",
   "metadata": {},
   "outputs": [
    {
     "name": "stdout",
     "output_type": "stream",
     "text": [
      "Sorted List: [(2, 1), (1, 2), (2, 3), (4, 4), (2, 5)]\n"
     ]
    }
   ],
   "source": [
    "#Q1\n",
    "sample_list = [(2, 5), (1, 2), (4, 4), (2, 3), (2, 1)]\n",
    "# Bubble sort by last element\n",
    "for i in range(len(sample_list)):\n",
    "    for j in range(len(sample_list) - i - 1):\n",
    "        if sample_list[j][-1] > sample_list[j+1][-1]:\n",
    "            sample_list[j], sample_list[j+1] = sample_list[j+1], sample_list[j]\n",
    "print(\"Sorted List:\", sample_list)"
   ]
  },
  {
   "cell_type": "code",
   "execution_count": 2,
   "id": "86a7402c-d541-4a90-a4ce-b87fa1e5f2d2",
   "metadata": {},
   "outputs": [
    {
     "name": "stdout",
     "output_type": "stream",
     "text": [
      "resta$t\n"
     ]
    }
   ],
   "source": [
    "#Q2\n",
    "s = \"restart\"\n",
    "first_char = s[0]\n",
    "result = first_char\n",
    "for i in range(1, len(s)):\n",
    "    if s[i] == first_char:\n",
    "        result += '$'\n",
    "    else:\n",
    "        result += s[i]\n",
    "print(result)"
   ]
  },
  {
   "cell_type": "code",
   "execution_count": 3,
   "id": "759d9fd6-adbf-40b5-a4d0-e1d9139cf20d",
   "metadata": {},
   "outputs": [
    {
     "name": "stdout",
     "output_type": "stream",
     "text": [
      "The lyrics is good!\n"
     ]
    }
   ],
   "source": [
    "#Q3\n",
    "def not_poor(s):\n",
    "    not_pos = s.find('not')     \n",
    "    poor_pos = s.find('poor')\n",
    "    if not_pos != -1 and poor_pos != -1 and poor_pos > not_pos:\n",
    "        s = s[:not_pos] + 'good' + s[poor_pos+4:]  \n",
    "    return s\n",
    "print(not_poor(\"The lyrics is not that poor!\"))"
   ]
  },
  {
   "cell_type": "code",
   "execution_count": 6,
   "id": "bffde2e3-4942-43c8-a925-4162b4e941d1",
   "metadata": {},
   "outputs": [
    {
     "name": "stdout",
     "output_type": "stream",
     "text": [
      "Sorted Dictionary: {'b': 1, 'c': 2, 'a': 3}\n"
     ]
    }
   ],
   "source": [
    "#Q4\n",
    "sample_dict = {'a': 3, 'b': 1, 'c': 2}\n",
    "# Convert to list of tuples\n",
    "items = list(sample_dict.items())\n",
    "# Bubble sort by value\n",
    "for i in range(len(items)):\n",
    "    for j in range(len(items) - i - 1):\n",
    "        if items[j][1] > items[j+1][1]:\n",
    "            items[j], items[j+1] = items[j+1], items[j]\n",
    "# Convert back to dict\n",
    "sorted_dict = {}\n",
    "for k, v in items:\n",
    "    sorted_dict[k] = v\n",
    "print(\"Sorted Dictionary:\", sorted_dict)"
   ]
  },
  {
   "cell_type": "code",
   "execution_count": 7,
   "id": "3554c2bb-f4c9-48af-9903-79d765f2ae2e",
   "metadata": {},
   "outputs": [
    {
     "name": "stdout",
     "output_type": "stream",
     "text": [
      "Updated Dictionary: {0: 10, 1: 20, 2: 30}\n"
     ]
    }
   ],
   "source": [
    "#Q5\n",
    "sample_dict = {0: 10, 1: 20}\n",
    "new_key, new_value = 2, 30\n",
    "exists = False\n",
    "for k in sample_dict:\n",
    "    if k == new_key:\n",
    "        exists = True\n",
    "        break\n",
    "if not exists:\n",
    "    sample_dict[new_key] = new_value\n",
    "print(\"Updated Dictionary:\", sample_dict)"
   ]
  }
 ],
 "metadata": {
  "kernelspec": {
   "display_name": "Python 3 (ipykernel)",
   "language": "python",
   "name": "python3"
  },
  "language_info": {
   "codemirror_mode": {
    "name": "ipython",
    "version": 3
   },
   "file_extension": ".py",
   "mimetype": "text/x-python",
   "name": "python",
   "nbconvert_exporter": "python",
   "pygments_lexer": "ipython3",
   "version": "3.13.5"
  }
 },
 "nbformat": 4,
 "nbformat_minor": 5
}
