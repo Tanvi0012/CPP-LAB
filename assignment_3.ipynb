{
 "cells": [
  {
   "cell_type": "code",
   "execution_count": 1,
   "id": "1543f2ea-02af-44c6-bc5c-c9a22ea76d7f",
   "metadata": {},
   "outputs": [
    {
     "name": "stdout",
     "output_type": "stream",
     "text": [
      " 2  3  5  7 11\n",
      "53 59 61 67 13\n",
      "47 89 97 71 17\n",
      "43 83 79 73 19\n",
      "41 37 31 29 23\n"
     ]
    }
   ],
   "source": [
    "\"\"\"Generate all prime numbers less than 100.Print them in a spiral format (like a clockwise square spiral) of minimal size that fits all primes in python\"\"\"\n",
    "def generate_primes(n):\n",
    "    \"\"\"Generate prime numbers less than n.\"\"\"\n",
    "    primes = []\n",
    "    for num in range(2, n):\n",
    "        for i in range(2, int(num**0.5) + 1):\n",
    "            if num % i == 0:\n",
    "                break\n",
    "        else:\n",
    "            primes.append(num)\n",
    "    return primes\n",
    "\n",
    "def spiral_fill(values, n):\n",
    "    \"\"\"Fill n×n matrix in clockwise spiral with given values.\"\"\"\n",
    "    matrix = [[None] * n for _ in range(n)]\n",
    "    top, left = 0, 0\n",
    "    bottom, right = n - 1, n - 1\n",
    "    idx = 0\n",
    "\n",
    "    while top <= bottom and left <= right:\n",
    "        # Left → Right\n",
    "        for j in range(left, right + 1):\n",
    "            if idx < len(values):\n",
    "                matrix[top][j] = values[idx]\n",
    "                idx += 1\n",
    "        top += 1\n",
    "\n",
    "        # Top → Bottom\n",
    "        for i in range(top, bottom + 1):\n",
    "            if idx < len(values):\n",
    "                matrix[i][right] = values[idx]\n",
    "                idx += 1\n",
    "        right -= 1\n",
    "\n",
    "        # Right → Left\n",
    "        for j in range(right, left - 1, -1):\n",
    "            if idx < len(values):\n",
    "                matrix[bottom][j] = values[idx]\n",
    "                idx += 1\n",
    "        bottom -= 1\n",
    "\n",
    "        # Bottom → Top\n",
    "        for i in range(bottom, top - 1, -1):\n",
    "            if idx < len(values):\n",
    "                matrix[i][left] = values[idx]\n",
    "                idx += 1\n",
    "        left += 1\n",
    "\n",
    "    return matrix\n",
    "\n",
    "def print_matrix(matrix):\n",
    "    \"\"\"Nicely print the matrix with spacing.\"\"\"\n",
    "    for row in matrix:\n",
    "        print(\" \".join(f\"{x:2}\" if x is not None else \"  \" for x in row))\n",
    "\n",
    "if __name__ == \"__main__\":\n",
    "    primes = generate_primes(100)\n",
    "    size = 1\n",
    "    while size * size < len(primes):\n",
    "        size += 1\n",
    "    spiral = spiral_fill(primes, size)\n",
    "    print_matrix(spiral)\n"
   ]
  },
  {
   "cell_type": "code",
   "execution_count": 2,
   "id": "1a24bd84-e29c-4528-bb75-33743d27e4cc",
   "metadata": {},
   "outputs": [
    {
     "name": "stdout",
     "output_type": "stream",
     "text": [
      "Hourly Views Graph (* = 5 views)\n",
      "\n",
      "Hour 00: ** (12 views)\n",
      "Hour 01: * (7 views)\n",
      "Hour 02: ***** (25 views)\n",
      "Hour 03: ****** (30 views)\n",
      "Hour 04: *** (18 views)\n",
      "Hour 05: ********* (45 views)\n",
      "Hour 06: * (9 views)\n",
      "Hour 07:  (0 views)\n",
      "Hour 08: ************ (60 views)\n",
      "Hour 09: ****** (33 views)\n",
      "Hour 10: *** (15 views)\n",
      "Hour 11: **** (22 views)\n"
     ]
    }
   ],
   "source": [
    "\"\"\"You are a data analyst at a streaming platform, managing user interactions, analytics, and daily operations. Use a for loop to create a text-based graph of hourly views. For example, use * to represent every 5 views.\"\"\"\n",
    "# Sample hourly views data (could come from your analytics logs)\n",
    "hourly_views = [12, 7, 25, 30, 18, 45, 9, 0, 60, 33, 15, 22]\n",
    "\n",
    "print(\"Hourly Views Graph (* = 5 views)\\n\")\n",
    "\n",
    "for hour, views in enumerate(hourly_views):\n",
    "    stars = views // 5   # Each star = 5 views\n",
    "    print(f\"Hour {hour:02d}: {'*' * stars} ({views} views)\")\n"
   ]
  },
  {
   "cell_type": "code",
   "execution_count": 3,
   "id": "e12b0d8f-1cd6-494b-9445-8d7972370766",
   "metadata": {},
   "outputs": [
    {
     "name": "stdout",
     "output_type": "stream",
     "text": [
      "Total daily revenue: $94.40\n"
     ]
    }
   ],
   "source": [
    "\"\"\"Each video watched generates revenue based on ad impressions:  First 10 views: $0.50 per view  Next 20 views: $0.30 per view  Remaining views: $0.10 per view You are given hourly views for the day. Calculate total daily revenue.\"\"\"\n",
    "# Sample hourly views data for the day\n",
    "hourly_views = [12, 7, 25, 30, 18, 45, 9, 0, 60, 33, 15, 22]\n",
    "\n",
    "def revenue_from_views(views):\n",
    "    \"\"\"Calculate revenue for a single hour given tiered pricing.\"\"\"\n",
    "    revenue = 0\n",
    "    if views > 0:\n",
    "        # First 10 views\n",
    "        first = min(views, 10)\n",
    "        revenue += first * 0.50\n",
    "        views -= first\n",
    "\n",
    "        # Next 20 views\n",
    "        second = min(views, 20)\n",
    "        revenue += second * 0.30\n",
    "        views -= second\n",
    "\n",
    "        # Remaining views\n",
    "        revenue += views * 0.10\n",
    "\n",
    "    return revenue\n",
    "\n",
    "# Total revenue for the day\n",
    "total_revenue = sum(revenue_from_views(v) for v in hourly_views)\n",
    "\n",
    "print(f\"Total daily revenue: ${total_revenue:.2f}\")\n"
   ]
  },
  {
   "cell_type": "code",
   "execution_count": null,
   "id": "8fa5e099-e4ff-4606-8ba3-c28066cd2d4b",
   "metadata": {},
   "outputs": [],
   "source": []
  }
 ],
 "metadata": {
  "kernelspec": {
   "display_name": "Python 3 (ipykernel)",
   "language": "python",
   "name": "python3"
  },
  "language_info": {
   "codemirror_mode": {
    "name": "ipython",
    "version": 3
   },
   "file_extension": ".py",
   "mimetype": "text/x-python",
   "name": "python",
   "nbconvert_exporter": "python",
   "pygments_lexer": "ipython3",
   "version": "3.13.5"
  }
 },
 "nbformat": 4,
 "nbformat_minor": 5
}
